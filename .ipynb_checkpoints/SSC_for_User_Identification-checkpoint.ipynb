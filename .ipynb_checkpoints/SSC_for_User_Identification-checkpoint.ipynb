{
 "cells": [
  {
   "cell_type": "markdown",
   "metadata": {},
   "source": [
    "# Sparse Subspace Clustering for User Identification\n",
    "  \n",
    "Standard recommendation methods rely on the assumption that each account is used by a single user. In reality though, multiple users may be sharing one account. In these cases, recommendations may lean toward more dominant users, or generalize to the combined weak preferences of multiple users. In addition, with shared accounts, services may be losing potential revenue. To solve these issues, the best way is to distinguish the users sharing the account. This is known to be a chicken and egg problem, because if we know the number of users sharing the account beforehand, it is relatively easy to allocate users to the items of their preferences, and if we know the pairings of users and items beforehand, it is trivial to discover the number of users using the account. Since this problem setting is analogous to the subspace clustering setting, where the objective is to find the number of subspaces, and the data points belonging to each subspace, we apply subspace clustering to this problem. Thus, in this project the objective is to apply subspace clustering to an account x item matrix, to distinguish the accounts which are shared by multiple users. Specifically, we apply Sparse Subspace Clustering to the MovieLens dataset, with major focus on discovering the pairings of users and movies in the multiple user setting. We show results of this experiment and give directions we could take for further research.\n",
    "\n",
    "Related Work:    \n",
    "This project is based off of the paper \"Guess Who Rated This Movie:Identifying Users Through Subspace Clustering\" by Zhang et al. [1], which attempted to apply Generalized Principal Component Analysis (GPCA), which is a subspace clustering method. Unfortunately, they were not able to produce good results with GPCA due to the presence of noise in the data. Meanwhile, Sparse Subspace Clustering (SSC) [4] is currently the state-of-art in subspace clustering. Therefore, here the objective is to apply SSC to a similar setting and see how SSC acts.\n",
    "\n",
    "\n",
    "## Contents\n",
    "1. Preprocessing of MovieLens (small) data\n",
    "2. Obtain Movie Representations with Matrix Factorization\n",
    "3. Create Artificial Two-User Accounts\n",
    "4. Apply K-Means, Spectral Clustering, and Sparse Subspace Clustering to each account\n",
    "5. Evaluation\n",
    "6. Future Directions"
   ]
  },
  {
   "cell_type": "markdown",
   "metadata": {},
   "source": [
    "## 1. Preprocessing of MovieLens (small) data"
   ]
  },
  {
   "cell_type": "markdown",
   "metadata": {},
   "source": [
    "MovieLens dataset taken from https://grouplens.org/datasets/movielens/  will be used.  \n",
    "(Out of the different MovieLens datasets, the small MovieLens dataset will be used for simplicity.)  "
   ]
  },
  {
   "cell_type": "code",
   "execution_count": 1,
   "metadata": {},
   "outputs": [],
   "source": [
    "import numpy as np\n",
    "import pandas as pd\n",
    "import matplotlib.pyplot as plt\n",
    "\n",
    "from helper import create_new_userid, create_new_movieid"
   ]
  },
  {
   "cell_type": "code",
   "execution_count": 2,
   "metadata": {},
   "outputs": [],
   "source": [
    "df = pd.read_csv('movielens/ratings.csv')"
   ]
  },
  {
   "cell_type": "code",
   "execution_count": 3,
   "metadata": {},
   "outputs": [
    {
     "name": "stdout",
     "output_type": "stream",
     "text": [
      "Number of unique users: 610\n",
      "Number of unique movies: 9724\n",
      "Types of ratings: [0.5 1.  1.5 2.  2.5 3.  3.5 4.  4.5 5. ]\n"
     ]
    }
   ],
   "source": [
    "print('Number of unique users: {}'.format(len(np.unique(df.userId))))\n",
    "print('Number of unique movies: {}'.format(len(np.unique(df.movieId))))\n",
    "print('Types of ratings: {}'.format(np.unique(df.rating)))"
   ]
  },
  {
   "cell_type": "markdown",
   "metadata": {},
   "source": [
    "Statistics of MovieLens Data"
   ]
  },
  {
   "cell_type": "code",
   "execution_count": 4,
   "metadata": {},
   "outputs": [
    {
     "data": {
      "text/html": [
       "<div>\n",
       "<style scoped>\n",
       "    .dataframe tbody tr th:only-of-type {\n",
       "        vertical-align: middle;\n",
       "    }\n",
       "\n",
       "    .dataframe tbody tr th {\n",
       "        vertical-align: top;\n",
       "    }\n",
       "\n",
       "    .dataframe thead th {\n",
       "        text-align: right;\n",
       "    }\n",
       "</style>\n",
       "<table border=\"1\" class=\"dataframe\">\n",
       "  <thead>\n",
       "    <tr style=\"text-align: right;\">\n",
       "      <th></th>\n",
       "      <th>movieId</th>\n",
       "      <th>rating</th>\n",
       "      <th>timestamp</th>\n",
       "    </tr>\n",
       "  </thead>\n",
       "  <tbody>\n",
       "    <tr>\n",
       "      <th>count</th>\n",
       "      <td>610.000000</td>\n",
       "      <td>610.000000</td>\n",
       "      <td>610.000000</td>\n",
       "    </tr>\n",
       "    <tr>\n",
       "      <th>mean</th>\n",
       "      <td>165.304918</td>\n",
       "      <td>165.304918</td>\n",
       "      <td>165.304918</td>\n",
       "    </tr>\n",
       "    <tr>\n",
       "      <th>std</th>\n",
       "      <td>269.480584</td>\n",
       "      <td>269.480584</td>\n",
       "      <td>269.480584</td>\n",
       "    </tr>\n",
       "    <tr>\n",
       "      <th>min</th>\n",
       "      <td>20.000000</td>\n",
       "      <td>20.000000</td>\n",
       "      <td>20.000000</td>\n",
       "    </tr>\n",
       "    <tr>\n",
       "      <th>25%</th>\n",
       "      <td>35.000000</td>\n",
       "      <td>35.000000</td>\n",
       "      <td>35.000000</td>\n",
       "    </tr>\n",
       "    <tr>\n",
       "      <th>50%</th>\n",
       "      <td>70.500000</td>\n",
       "      <td>70.500000</td>\n",
       "      <td>70.500000</td>\n",
       "    </tr>\n",
       "    <tr>\n",
       "      <th>75%</th>\n",
       "      <td>168.000000</td>\n",
       "      <td>168.000000</td>\n",
       "      <td>168.000000</td>\n",
       "    </tr>\n",
       "    <tr>\n",
       "      <th>max</th>\n",
       "      <td>2698.000000</td>\n",
       "      <td>2698.000000</td>\n",
       "      <td>2698.000000</td>\n",
       "    </tr>\n",
       "  </tbody>\n",
       "</table>\n",
       "</div>"
      ],
      "text/plain": [
       "           movieId       rating    timestamp\n",
       "count   610.000000   610.000000   610.000000\n",
       "mean    165.304918   165.304918   165.304918\n",
       "std     269.480584   269.480584   269.480584\n",
       "min      20.000000    20.000000    20.000000\n",
       "25%      35.000000    35.000000    35.000000\n",
       "50%      70.500000    70.500000    70.500000\n",
       "75%     168.000000   168.000000   168.000000\n",
       "max    2698.000000  2698.000000  2698.000000"
      ]
     },
     "execution_count": 4,
     "metadata": {},
     "output_type": "execute_result"
    }
   ],
   "source": [
    "df.groupby('userId').count().describe()"
   ]
  },
  {
   "cell_type": "markdown",
   "metadata": {},
   "source": [
    "Balancing the number of movies watched by each user to order of 100s, and removing movies that were viewed only once"
   ]
  },
  {
   "cell_type": "code",
   "execution_count": 5,
   "metadata": {},
   "outputs": [],
   "source": [
    "# Remove users that rated less than 100 movies, and more than 999 movies\n",
    "df = df.groupby('userId').filter(lambda userId: len(userId) >= 100)\n",
    "df = df.groupby('userId').filter(lambda userId: len(userId) < 1000)\n",
    "\n",
    "# Remove movies that only appear once\n",
    "df = df.groupby('movieId').filter(lambda movieId: len(movieId) > 1) "
   ]
  },
  {
   "cell_type": "code",
   "execution_count": 6,
   "metadata": {},
   "outputs": [
    {
     "name": "stdout",
     "output_type": "stream",
     "text": [
      "Number of unique users: 236\n",
      "Number of unique movies: 4860\n",
      "Types of ratings: [0.5 1.  1.5 2.  2.5 3.  3.5 4.  4.5 5. ]\n"
     ]
    }
   ],
   "source": [
    "print('Number of unique users: {}'.format(len(np.unique(df.userId))))\n",
    "print('Number of unique movies: {}'.format(len(np.unique(df.movieId))))\n",
    "print('Types of ratings: {}'.format(np.unique(df.rating)))"
   ]
  },
  {
   "cell_type": "markdown",
   "metadata": {},
   "source": [
    "Create new_userId and new_movieId so that they all start from 0 and increase by 1's  \n",
    "(Easier to align with matrices/arrays later)"
   ]
  },
  {
   "cell_type": "code",
   "execution_count": 7,
   "metadata": {},
   "outputs": [],
   "source": [
    "# Create new_userId\n",
    "df['new_userId'] = create_new_userid(df)\n",
    "\n",
    "# Create new_movieId\n",
    "df['new_movieId'] = create_new_movieid(df)"
   ]
  },
  {
   "cell_type": "code",
   "execution_count": 8,
   "metadata": {},
   "outputs": [],
   "source": [
    "df = df.sort_values(['new_userId', 'new_movieId'])"
   ]
  },
  {
   "cell_type": "markdown",
   "metadata": {},
   "source": [
    "## 2. Obtain Movie Representations with Matrix Factorization"
   ]
  },
  {
   "cell_type": "code",
   "execution_count": 9,
   "metadata": {},
   "outputs": [],
   "source": [
    "from MF import ML_MatrixFactorization"
   ]
  },
  {
   "cell_type": "markdown",
   "metadata": {},
   "source": [
    "Uses Matrix Factorization with bias and regularization terms for both users and items.  \n",
    "Updates are done with alternating least squares."
   ]
  },
  {
   "cell_type": "code",
   "execution_count": 12,
   "metadata": {},
   "outputs": [
    {
     "data": {
      "application/vnd.jupyter.widget-view+json": {
       "model_id": "ade41d107ff84f33993c7199447e027b",
       "version_major": 2,
       "version_minor": 0
      },
      "text/html": [
       "<p>Failed to display Jupyter Widget of type <code>HBox</code>.</p>\n",
       "<p>\n",
       "  If you're reading this message in the Jupyter Notebook or JupyterLab Notebook, it may mean\n",
       "  that the widgets JavaScript is still loading. If this message persists, it\n",
       "  likely means that the widgets JavaScript library is either not installed or\n",
       "  not enabled. See the <a href=\"https://ipywidgets.readthedocs.io/en/stable/user_install.html\">Jupyter\n",
       "  Widgets Documentation</a> for setup instructions.\n",
       "</p>\n",
       "<p>\n",
       "  If you're reading this message in another frontend (for example, a static\n",
       "  rendering on GitHub or <a href=\"https://nbviewer.jupyter.org/\">NBViewer</a>),\n",
       "  it may mean that your frontend doesn't currently support widgets.\n",
       "</p>\n"
      ],
      "text/plain": [
       "HBox(children=(IntProgress(value=0, max=30), HTML(value='')))"
      ]
     },
     "metadata": {},
     "output_type": "display_data"
    },
    {
     "name": "stdout",
     "output_type": "stream",
     "text": [
      "Epoch 0\n",
      "Objective Value: 1233933.1969017838\n",
      "Epoch 1\n",
      "Objective Value: 252143.09182546264\n",
      "Epoch 2\n",
      "Objective Value: 56353.62539505561\n",
      "Epoch 3\n",
      "Objective Value: 14827.857888174283\n",
      "Epoch 4\n",
      "Objective Value: 4763.679462428649\n",
      "Epoch 5\n",
      "Objective Value: 1849.6203660057545\n",
      "Epoch 6\n",
      "Objective Value: 852.6197346201792\n",
      "Epoch 7\n",
      "Objective Value: 467.6063587230657\n",
      "Epoch 8\n",
      "Objective Value: 294.64121645440656\n",
      "Epoch 9\n",
      "Objective Value: 213.6006942078346\n",
      "Epoch 10\n",
      "Objective Value: 167.46728091377125\n",
      "Epoch 11\n",
      "Objective Value: 141.5692684837187\n",
      "Epoch 12\n",
      "Objective Value: 125.33747255527526\n",
      "Epoch 13\n",
      "Objective Value: 113.39576166813885\n",
      "Epoch 14\n",
      "Objective Value: 104.90378701628588\n",
      "Epoch 15\n",
      "Objective Value: 97.71922939843022\n",
      "Epoch 16\n",
      "Objective Value: 91.54414231354956\n",
      "Epoch 17\n",
      "Objective Value: 86.25272077493942\n",
      "Epoch 18\n",
      "Objective Value: 81.80637002493084\n",
      "Epoch 19\n",
      "Objective Value: 77.91245598587824\n",
      "Epoch 20\n",
      "Objective Value: 75.06908944029747\n",
      "Epoch 21\n",
      "Objective Value: 72.67320866520555\n",
      "Epoch 22\n",
      "Objective Value: 70.66938621783444\n",
      "Epoch 23\n",
      "Objective Value: 69.0904442925846\n",
      "Epoch 24\n",
      "Objective Value: 67.96218373653855\n",
      "Epoch 25\n",
      "Objective Value: 67.30654440855501\n",
      "Epoch 26\n",
      "Objective Value: 67.05600488172092\n",
      "Epoch 27\n",
      "Objective Value: 67.03225824500376\n",
      "Epoch 28\n",
      "Objective Value: 67.24050334191517\n",
      "Epoch 29\n",
      "Objective Value: 67.26675439962482\n"
     ]
    }
   ],
   "source": [
    "model = ML_MatrixFactorization(k = 10, lmd_u = 10, lmd_v = 10)\n",
    "model.fit(df, epochs=30)"
   ]
  },
  {
   "cell_type": "code",
   "execution_count": 15,
   "metadata": {},
   "outputs": [],
   "source": [
    "# Save u and v matrices\n",
    "# np.save('outputs/MF_u_final.npy', model.u)\n",
    "# np.save('outputs/MF_v_final.npy', model.v)"
   ]
  },
  {
   "cell_type": "code",
   "execution_count": 10,
   "metadata": {},
   "outputs": [],
   "source": [
    "# Load u and v matrices\n",
    "u = np.load('outputs/MF_u_final.npy')\n",
    "v = np.load('outputs/MF_v_final.npy')"
   ]
  },
  {
   "cell_type": "code",
   "execution_count": 11,
   "metadata": {},
   "outputs": [],
   "source": [
    "# Standardize v per row (Mostly because Kmeans doesn't work without this)\n",
    "v = (v - np.repeat(np.mean(v, axis=1), v.shape[1]).reshape(v.shape))/np.repeat(np.std(v, axis=1), v.shape[1]).reshape(v.shape)"
   ]
  },
  {
   "cell_type": "markdown",
   "metadata": {},
   "source": [
    "## 3. Create Artificial Two-User Accounts"
   ]
  },
  {
   "cell_type": "code",
   "execution_count": 12,
   "metadata": {},
   "outputs": [],
   "source": [
    "from helper import output_paired_users, output_corresponding_movies"
   ]
  },
  {
   "cell_type": "code",
   "execution_count": 12,
   "metadata": {},
   "outputs": [],
   "source": [
    "# Make pairs of users randomly\n",
    "user_pairs_arr = output_paired_users(df)\n",
    "\n",
    "# Get corresponding movies of paired users\n",
    "account_movies_arr = output_corresponding_movies(df, user_pairs_arr)"
   ]
  },
  {
   "cell_type": "code",
   "execution_count": 13,
   "metadata": {},
   "outputs": [],
   "source": [
    "# Save user_pairs_arr and account_movies_arr\n",
    "# np.save('outputs/user_pairs_arr_final.npy', user_pairs_arr)\n",
    "# np.save('outputs/account_movies_arr_final.npy', account_movies_arr)"
   ]
  },
  {
   "cell_type": "code",
   "execution_count": 2,
   "metadata": {},
   "outputs": [],
   "source": [
    "# Load saved u and v matrices\n",
    "user_pairs_arr = np.load('outputs/user_pairs_arr_final.npy', allow_pickle=True)\n",
    "account_movies_arr = np.load('outputs/account_movies_arr_final.npy', allow_pickle=True)"
   ]
  },
  {
   "cell_type": "markdown",
   "metadata": {},
   "source": [
    "## 4. Apply K-Means, Spectral Clustering, and Sparse Subspace Clustering to each account"
   ]
  },
  {
   "cell_type": "markdown",
   "metadata": {},
   "source": [
    "Here, the assumption is that if we cluster the movie representations appended with the rating of users per account, we will be able to distinguish the users in that account."
   ]
  },
  {
   "cell_type": "code",
   "execution_count": 14,
   "metadata": {},
   "outputs": [],
   "source": [
    "from cluster import cluster_labels_with_acc"
   ]
  },
  {
   "cell_type": "markdown",
   "metadata": {},
   "source": [
    "### (i) Kmeans"
   ]
  },
  {
   "cell_type": "code",
   "execution_count": 31,
   "metadata": {},
   "outputs": [
    {
     "data": {
      "application/vnd.jupyter.widget-view+json": {
       "model_id": "ef9b25e4fe71433daf70e474062e3b1a",
       "version_major": 2,
       "version_minor": 0
      },
      "text/html": [
       "<p>Failed to display Jupyter Widget of type <code>HBox</code>.</p>\n",
       "<p>\n",
       "  If you're reading this message in the Jupyter Notebook or JupyterLab Notebook, it may mean\n",
       "  that the widgets JavaScript is still loading. If this message persists, it\n",
       "  likely means that the widgets JavaScript library is either not installed or\n",
       "  not enabled. See the <a href=\"https://ipywidgets.readthedocs.io/en/stable/user_install.html\">Jupyter\n",
       "  Widgets Documentation</a> for setup instructions.\n",
       "</p>\n",
       "<p>\n",
       "  If you're reading this message in another frontend (for example, a static\n",
       "  rendering on GitHub or <a href=\"https://nbviewer.jupyter.org/\">NBViewer</a>),\n",
       "  it may mean that your frontend doesn't currently support widgets.\n",
       "</p>\n"
      ],
      "text/plain": [
       "HBox(children=(IntProgress(value=0, max=118), HTML(value='')))"
      ]
     },
     "metadata": {},
     "output_type": "display_data"
    }
   ],
   "source": [
    "kmeans_acc_list, kmeans_pred_list = cluster_labels_with_acc(v, df, user_pairs_arr, account_movies_arr, 2, 'kmeans')"
   ]
  },
  {
   "cell_type": "code",
   "execution_count": 32,
   "metadata": {},
   "outputs": [],
   "source": [
    "#np.save('outputs/kmeans_acc_final.npy', np.array(kmeans_acc_list))\n",
    "#np.save('outputs/kmeans_pred_final.npy', np.array(kmeans_pred_list))"
   ]
  },
  {
   "cell_type": "code",
   "execution_count": 3,
   "metadata": {},
   "outputs": [],
   "source": [
    "kmeans_acc_list = np.load('outputs/kmeans_acc_final.npy', allow_pickle=True)\n",
    "kmeans_pred_list = np.load('outputs/kmeans_pred_final.npy', allow_pickle=True)"
   ]
  },
  {
   "cell_type": "markdown",
   "metadata": {},
   "source": [
    "### (ii) Spectral Clustering"
   ]
  },
  {
   "cell_type": "code",
   "execution_count": 35,
   "metadata": {},
   "outputs": [
    {
     "data": {
      "application/vnd.jupyter.widget-view+json": {
       "model_id": "945e0bc2e649496080833f221360b2d3",
       "version_major": 2,
       "version_minor": 0
      },
      "text/html": [
       "<p>Failed to display Jupyter Widget of type <code>HBox</code>.</p>\n",
       "<p>\n",
       "  If you're reading this message in the Jupyter Notebook or JupyterLab Notebook, it may mean\n",
       "  that the widgets JavaScript is still loading. If this message persists, it\n",
       "  likely means that the widgets JavaScript library is either not installed or\n",
       "  not enabled. See the <a href=\"https://ipywidgets.readthedocs.io/en/stable/user_install.html\">Jupyter\n",
       "  Widgets Documentation</a> for setup instructions.\n",
       "</p>\n",
       "<p>\n",
       "  If you're reading this message in another frontend (for example, a static\n",
       "  rendering on GitHub or <a href=\"https://nbviewer.jupyter.org/\">NBViewer</a>),\n",
       "  it may mean that your frontend doesn't currently support widgets.\n",
       "</p>\n"
      ],
      "text/plain": [
       "HBox(children=(IntProgress(value=0, max=118), HTML(value='')))"
      ]
     },
     "metadata": {},
     "output_type": "display_data"
    }
   ],
   "source": [
    "spectral_acc_list, spectral_pred_list = cluster_labels_with_acc(v, df, user_pairs_arr, \n",
    "                                                                account_movies_arr, 2, 'spectral')"
   ]
  },
  {
   "cell_type": "code",
   "execution_count": 36,
   "metadata": {},
   "outputs": [],
   "source": [
    "#np.save('outputs/spectral_acc_final.npy', np.array(spectral_acc_list))\n",
    "#np.save('outputs/spectral_pred_final.npy', np.array(spectral_pred_list))"
   ]
  },
  {
   "cell_type": "code",
   "execution_count": 4,
   "metadata": {},
   "outputs": [],
   "source": [
    "spectral_acc_list = np.load('outputs/spectral_acc_final.npy', allow_pickle=True)\n",
    "spectral_pred_list = np.load('outputs/spectral_pred_final.npy', allow_pickle=True)"
   ]
  },
  {
   "cell_type": "markdown",
   "metadata": {},
   "source": [
    "### (iii) Sparse Subspace Clustering"
   ]
  },
  {
   "cell_type": "code",
   "execution_count": 1,
   "metadata": {},
   "outputs": [],
   "source": [
    "ssc_acc_list, ssc_pred_list = cluster_labels_with_acc(v, df, user_pairs_arr, \n",
    "                                                                 account_movies_arr, 2, 'ssc')"
   ]
  },
  {
   "cell_type": "code",
   "execution_count": 41,
   "metadata": {},
   "outputs": [],
   "source": [
    "#np.save('outputs/ssc_acc_final.npy', np.array(ssc_acc_list))\n",
    "#np.save('outputs/ssc_pred_final.npy', np.array(ssc_pred_list))"
   ]
  },
  {
   "cell_type": "code",
   "execution_count": 5,
   "metadata": {},
   "outputs": [],
   "source": [
    "ssc_acc_list = np.load('outputs/ssc_acc_final.npy', allow_pickle=True)\n",
    "ssc_pred_list = np.load('outputs/ssc_pred_final.npy', allow_pickle=True)"
   ]
  },
  {
   "cell_type": "markdown",
   "metadata": {},
   "source": [
    "## 5. Evaluation"
   ]
  },
  {
   "cell_type": "markdown",
   "metadata": {},
   "source": [
    "### Similarity  \n",
    "(How true labels and clusters match)"
   ]
  },
  {
   "cell_type": "code",
   "execution_count": 8,
   "metadata": {},
   "outputs": [
    {
     "data": {
      "image/png": "[encoded data removed]",
      "text/plain": [
       "<Figure size 432x288 with 1 Axes>"
      ]
     },
     "metadata": {},
     "output_type": "display_data"
    }
   ],
   "source": [
    "x1 = np.sort(kmeans_acc_list)\n",
    "x2 = np.sort(spectral_acc_list)\n",
    "x3 = np.sort(ssc_acc_list)\n",
    "y = np.arange(len(x1))/float(len(x1))\n",
    "labels = ['K-means', 'Spectral', 'SSC']\n",
    "plt.plot(x1, y)\n",
    "plt.plot(x2, y)\n",
    "plt.plot(x3, y)\n",
    "plt.xlim(0.5,1)\n",
    "plt.ylim(0, 1)\n",
    "plt.legend(labels)\n",
    "plt.xlabel('Similarity')\n",
    "plt.ylabel('CDF of Similarity')\n",
    "#plt.savefig('outputs/similarities_k10_lmd_10_final.png')\n",
    "plt.show()"
   ]
  },
  {
   "cell_type": "markdown",
   "metadata": {},
   "source": [
    "Regarding similarity, SSC performed the worst. But Spectral Clustering clusters movie rated by each account mostly into one user. On the other hand, K-means and Spectral are making more balanced clusters, although in some cases K-means clusters movies rated by an account to a single user as well."
   ]
  },
  {
   "cell_type": "markdown",
   "metadata": {},
   "source": [
    "### Genre distribution in clusters"
   ]
  },
  {
   "cell_type": "code",
   "execution_count": 6,
   "metadata": {},
   "outputs": [],
   "source": [
    "from helper import collect_movies_in_clusters, get_genres, calculate_cluster_ratio_difference\n",
    "from collections import Counter\n",
    "from matplotlib.ticker import PercentFormatter"
   ]
  },
  {
   "cell_type": "code",
   "execution_count": 7,
   "metadata": {},
   "outputs": [],
   "source": [
    "# Collect predicted movie clusters of first multiple user account\n",
    "kmeans_0, kmeans_1 = collect_movies_in_clusters(account_movies_arr[0], kmeans_pred_list[0])\n",
    "spectral_0, spectral_1 = collect_movies_in_clusters(account_movies_arr[0], spectral_pred_list[0])\n",
    "ssc_0, ssc_1 = collect_movies_in_clusters(account_movies_arr[0], ssc_pred_list[0])"
   ]
  },
  {
   "cell_type": "code",
   "execution_count": 8,
   "metadata": {},
   "outputs": [],
   "source": [
    "# Get all genre's corresponding to movie_id's in a list\n",
    "kmeans_0_genres = get_genres(kmeans_0)\n",
    "kmeans_1_genres = get_genres(kmeans_1)\n",
    "spectral_0_genres = get_genres(spectral_0)\n",
    "spectral_1_genres = get_genres(spectral_1)\n",
    "ssc_0_genres = get_genres(ssc_0)\n",
    "ssc_1_genres = get_genres(ssc_1)"
   ]
  },
  {
   "cell_type": "code",
   "execution_count": 9,
   "metadata": {},
   "outputs": [],
   "source": [
    "# Get number of times each genre appeared in each cluster\n",
    "kmeans_0_keys = list(Counter(kmeans_0_genres).keys())\n",
    "kmeans_0_values = list(Counter(kmeans_0_genres).values())\n",
    "kmeans_1_keys = list(Counter(kmeans_1_genres).keys())\n",
    "kmeans_1_values = list(Counter(kmeans_1_genres).values())\n",
    "\n",
    "spectral_0_keys = list(Counter(spectral_0_genres).keys())\n",
    "spectral_0_values = list(Counter(spectral_0_genres).values())\n",
    "spectral_1_keys = list(Counter(spectral_1_genres).keys())\n",
    "spectral_1_values = list(Counter(spectral_1_genres).values())\n",
    "\n",
    "ssc_0_keys = list(Counter(ssc_0_genres).keys())\n",
    "ssc_0_values = list(Counter(ssc_0_genres).values())\n",
    "ssc_1_keys = list(Counter(ssc_1_genres).keys())\n",
    "ssc_1_values = list(Counter(ssc_1_genres).values())"
   ]
  },
  {
   "cell_type": "markdown",
   "metadata": {},
   "source": [
    "#### Kmeans cluster 0 and 1"
   ]
  },
  {
   "cell_type": "code",
   "execution_count": 43,
   "metadata": {},
   "outputs": [
    {
     "data": {
      "image/png": "[encoded data removed]",
      "text/plain": [
       "<Figure size 432x288 with 1 Axes>"
      ]
     },
     "metadata": {},
     "output_type": "display_data"
    },
    {
     "data": {
      "image/png": "[encoded data removed]",
      "text/plain": [
       "<Figure size 432x288 with 1 Axes>"
      ]
     },
     "metadata": {},
     "output_type": "display_data"
    }
   ],
   "source": [
    "plt.bar(sorted(kmeans_0_keys), [x/np.sum(kmeans_0_values) for _,x in sorted(zip(kmeans_0_keys,kmeans_0_values))], align='center')\n",
    "plt.xticks(rotation=90)\n",
    "plt.xlabel('Genres')\n",
    "plt.ylabel('Ratio of Appearance')\n",
    "plt.title('Ratio of Appearances of each genre in Kmeans Cluster 0')\n",
    "plt.tight_layout()\n",
    "#plt.savefig('outputs/kmeans_0_genres_final.png')\n",
    "plt.show()\n",
    "\n",
    "plt.bar(sorted(kmeans_1_keys), [x/np.sum(kmeans_1_values) for _,x in sorted(zip(kmeans_1_keys,kmeans_1_values))], align='center')\n",
    "plt.xticks(rotation=90)\n",
    "plt.xlabel('Genres')\n",
    "plt.ylabel('Ratio of Appearance')\n",
    "plt.title('Ratio of Appearances of each genre in Kmeans Cluster 1')\n",
    "plt.tight_layout()\n",
    "#plt.savefig('outputs/kmeans_1_genres_final.png')\n",
    "plt.show()"
   ]
  },
  {
   "cell_type": "markdown",
   "metadata": {},
   "source": [
    "#### Spectral Clustering cluster 0 and 1"
   ]
  },
  {
   "cell_type": "code",
   "execution_count": 45,
   "metadata": {},
   "outputs": [
    {
     "data": {
      "image/png": "[encoded data removed]",
      "text/plain": [
       "<Figure size 432x288 with 1 Axes>"
      ]
     },
     "metadata": {},
     "output_type": "display_data"
    },
    {
     "data": {
      "image/png": "[encoded data removed]",
      "text/plain": [
       "<Figure size 432x288 with 1 Axes>"
      ]
     },
     "metadata": {},
     "output_type": "display_data"
    }
   ],
   "source": [
    "plt.bar(sorted(spectral_0_keys), [x/np.sum(spectral_0_values) for _,x in sorted(zip(spectral_0_keys,spectral_0_values))], align='center')\n",
    "plt.xticks(rotation=90)\n",
    "plt.xlabel('Genres')\n",
    "plt.ylabel('Ratio of Appearance')\n",
    "plt.title('Ratio of Appearances of each genre in Spectral Cluster 0')\n",
    "plt.tight_layout()\n",
    "#plt.savefig('outputs/spectral_0_genres_final.png')\n",
    "plt.show()\n",
    "\n",
    "plt.bar(sorted(spectral_1_keys), [x/np.sum(spectral_1_values) for _,x in sorted(zip(spectral_1_keys,spectral_1_values))], align='center')\n",
    "plt.xticks(rotation=90)\n",
    "plt.xlabel('Genres')\n",
    "plt.ylabel('Ratio of Appearance')\n",
    "plt.title('Ratio of Appearances of each genre in Spectral Cluster 1')\n",
    "plt.tight_layout()\n",
    "#plt.savefig('outputs/spectral_1_genres_final.png')\n",
    "plt.show()"
   ]
  },
  {
   "cell_type": "markdown",
   "metadata": {},
   "source": [
    "#### Sparse Subspace Clustering cluster 0 and 1"
   ]
  },
  {
   "cell_type": "code",
   "execution_count": 46,
   "metadata": {},
   "outputs": [
    {
     "data": {
      "image/png": "[encoded data removed]",
      "text/plain": [
       "<Figure size 432x288 with 1 Axes>"
      ]
     },
     "metadata": {},
     "output_type": "display_data"
    },
    {
     "data": {
      "image/png": "[encoded data removed]",
      "text/plain": [
       "<Figure size 432x288 with 1 Axes>"
      ]
     },
     "metadata": {},
     "output_type": "display_data"
    }
   ],
   "source": [
    "plt.bar(sorted(ssc_0_keys), [x/np.sum(ssc_0_values) for _,x in sorted(zip(ssc_0_keys,ssc_0_values))], align='center')\n",
    "plt.xticks(rotation=90)\n",
    "plt.xlabel('Genres')\n",
    "plt.ylabel('Ratio of Appearance')\n",
    "plt.title('Ratio of Appearances of each genre in SSC Cluster 0')\n",
    "plt.tight_layout()\n",
    "#plt.savefig('outputs/ssc_0_genres_final.png')\n",
    "plt.show()\n",
    "\n",
    "plt.bar(sorted(ssc_1_keys), [x/np.sum(ssc_1_values) for _,x in sorted(zip(ssc_1_keys,ssc_1_values))], align='center')\n",
    "plt.xticks(rotation=90)\n",
    "plt.xlabel('Genres')\n",
    "plt.ylabel('Ratio of Appearance')\n",
    "plt.title('Ratio of Appearances of each genre in SSC Cluster 1')\n",
    "plt.tight_layout()\n",
    "#plt.savefig('outputs/ssc_1_genres_final.png')\n",
    "plt.show()"
   ]
  },
  {
   "cell_type": "markdown",
   "metadata": {},
   "source": [
    "### Difference of ratios in clusters"
   ]
  },
  {
   "cell_type": "markdown",
   "metadata": {},
   "source": [
    "K-means Genre Ratio Difference"
   ]
  },
  {
   "cell_type": "code",
   "execution_count": 10,
   "metadata": {},
   "outputs": [
    {
     "name": "stdout",
     "output_type": "stream",
     "text": [
      "0.2931447945092202\n"
     ]
    }
   ],
   "source": [
    "kmeans_diff = calculate_cluster_ratio_difference(kmeans_0_keys, kmeans_1_keys, kmeans_0_values, kmeans_1_values)\n",
    "print(kmeans_diff)"
   ]
  },
  {
   "cell_type": "markdown",
   "metadata": {},
   "source": [
    "Spectral Clustering Genre Ratio Difference"
   ]
  },
  {
   "cell_type": "code",
   "execution_count": 11,
   "metadata": {},
   "outputs": [
    {
     "name": "stdout",
     "output_type": "stream",
     "text": [
      "1.123134328358209\n"
     ]
    }
   ],
   "source": [
    "spectral_diff = calculate_cluster_ratio_difference(spectral_0_keys, spectral_1_keys, spectral_0_values, spectral_1_values)\n",
    "print(spectral_diff)"
   ]
  },
  {
   "cell_type": "markdown",
   "metadata": {},
   "source": [
    "Sparse Subspace Clustering Genre Ratio Difference"
   ]
  },
  {
   "cell_type": "code",
   "execution_count": 12,
   "metadata": {},
   "outputs": [
    {
     "name": "stdout",
     "output_type": "stream",
     "text": [
      "0.20104353011329756\n"
     ]
    }
   ],
   "source": [
    "ssc_diff = calculate_cluster_ratio_difference(ssc_0_keys, ssc_1_keys, ssc_0_values, ssc_1_values)\n",
    "print(ssc_diff)"
   ]
  },
  {
   "cell_type": "markdown",
   "metadata": {},
   "source": [
    "Obviously, spectral clustering has a big difference in the genre ratios in the class because of the number of items in each cluster is very unbalanced. Therefore, spectral clustering clusters should be ignored for now. Comparing K-means and SSC, which both had relatively balanced clusters, K-means clusters had a bigger difference in genres. Thus, maybe in this problem setting in general, SSC was not a good choice. Increasing the data size and changing the item representation obtained earlier may make things different."
   ]
  },
  {
   "cell_type": "markdown",
   "metadata": {},
   "source": [
    "## 6. Future Directions"
   ]
  },
  {
   "cell_type": "markdown",
   "metadata": {},
   "source": [
    "- Using a bigger dataset\n",
    "- Incorporating Metadata, such as sessions, time of rating, etc.\n",
    "- Different clustering algorithms\n",
    "- Different movie representations\n",
    "- Hyperparameter Tuning"
   ]
  },
  {
   "cell_type": "markdown",
   "metadata": {},
   "source": [
    "## References\n",
    "[1] Zhang, A., Fawaz, N., Ioannidis, S., and Montanari, A. (2012). Guess Who Rated This Movie: Identifying Users Through Subspace Clustering. 28th Conference on Uncertainty in Artificial Intelligence (UAI 2012).  \n",
    "[2] Verstrepen, K., Goethals, B. (2015). Top-N Recommendation for Shared Accounts. RecSys '15: Proceedings of the 9th ACM Conference on Recommender Systems.  \n",
    "[3] Jiang, J., Li, C., Chen, Y., and Wang, W. (2018). Identifying Users behind Shared Accounts in Online Streaming Services. SIGIR’18, July 8-12, 2018, Ann Arbor, MI, USA.  \n",
    "[4] Elhamifar, E. and Vidal, R. (2009). Sparse subspace clustering. Computer Vision and Pattern Recognition, 2009.  \n",
    "[5] Vidal, R., Ma, Y., and Sastry, S. (2005). Generalized principal component analysis (gpca). IEEE Transactions on Pattern Analysis and Machine Intelligence, vol 27, no 12, 2005.   "
   ]
  }
 ],
 "metadata": {
  "kernelspec": {
   "display_name": "Python 3",
   "language": "python",
   "name": "python3"
  },
  "language_info": {
   "codemirror_mode": {
    "name": "ipython",
    "version": 3
   },
   "file_extension": ".py",
   "mimetype": "text/x-python",
   "name": "python",
   "nbconvert_exporter": "python",
   "pygments_lexer": "ipython3",
   "version": "3.6.9"
  }
 },
 "nbformat": 4,
 "nbformat_minor": 2
}
